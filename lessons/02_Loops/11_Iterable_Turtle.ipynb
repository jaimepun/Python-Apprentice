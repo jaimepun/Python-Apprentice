{
 "cells": [
  {
   "cell_type": "code",
   "execution_count": 2,
   "metadata": {},
   "outputs": [
    {
     "ename": "Terminator",
     "evalue": "",
     "output_type": "error",
     "traceback": [
      "\u001b[0;31m---------------------------------------------------------------------------\u001b[0m",
      "\u001b[0;31mTerminator\u001b[0m                                Traceback (most recent call last)",
      "Cell \u001b[0;32mIn[2], line 19\u001b[0m\n\u001b[1;32m     15\u001b[0m \u001b[38;5;66;03m# Zip the colors and directions together, then unpack them. THere is a good example of this\u001b[39;00m\n\u001b[1;32m     16\u001b[0m \u001b[38;5;66;03m# in 10_More_iterables.ipynb in the discussion of zip()\u001b[39;00m\n\u001b[1;32m     18\u001b[0m \u001b[38;5;28;01mfor\u001b[39;00m color , angle , move \u001b[38;5;129;01min\u001b[39;00m \u001b[38;5;28mzip\u001b[39m( colors , angles , moves):\n\u001b[0;32m---> 19\u001b[0m     \u001b[43mt\u001b[49m\u001b[38;5;241;43m.\u001b[39;49m\u001b[43mcolor\u001b[49m\u001b[43m \u001b[49m\u001b[43m(\u001b[49m\u001b[43m \u001b[49m\u001b[43mcolor\u001b[49m\u001b[43m)\u001b[49m\n\u001b[1;32m     20\u001b[0m     t\u001b[38;5;241m.\u001b[39mforward ( move)\n\u001b[1;32m     21\u001b[0m     t\u001b[38;5;241m.\u001b[39mleft ( angle)\n",
      "File \u001b[0;32m<string>:5\u001b[0m, in \u001b[0;36mcolor\u001b[0;34m(*args)\u001b[0m\n",
      "\u001b[0;31mTerminator\u001b[0m: "
     ]
    }
   ],
   "source": [
    "\"\"\"\n",
    "Programmable turtle graphics\n",
    "\n",
    "Use what you've learned about lists, loop, cycle, slice and zip to draw a pattern\n",
    "\n",
    "\"\"\"\n",
    "import turtle\n",
    "t = turtle# Create a turtle like in previous programs, like 04_Crazy_Tina.py\n",
    "turtle.setup (width=300 , height= 300 )\n",
    "colors = ['blue', 'yellow', 'pink', 'red'] # Make a list of colors\n",
    "\n",
    "angles = [100, 200, 90, 20]\n",
    "moves = [10, 50, 35, 100]\n",
    "\n",
    "# Zip the colors and directions together, then unpack them. THere is a good example of this\n",
    "# in 10_More_iterables.ipynb in the discussion of zip()\n",
    "\n",
    "for color , angle , move in zip( colors , angles , moves):\n",
    "    t.color ( color)\n",
    "    t.forward ( move)\n",
    "    t.left ( angle)\n",
    "\n",
    "turtle.exitonclick()\n",
    "# Don't forget the special way to end a turtle program. \n"
   ]
  }
 ],
 "metadata": {
  "kernelspec": {
   "display_name": "Python 3",
   "language": "python",
   "name": "python3"
  },
  "language_info": {
   "codemirror_mode": {
    "name": "ipython",
    "version": 3
   },
   "file_extension": ".py",
   "mimetype": "text/x-python",
   "name": "python",
   "nbconvert_exporter": "python",
   "pygments_lexer": "ipython3",
   "version": "3.12.4"
  }
 },
 "nbformat": 4,
 "nbformat_minor": 2
}
