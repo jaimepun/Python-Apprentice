{
 "cells": [
  {
   "cell_type": "code",
   "execution_count": null,
   "metadata": {},
   "outputs": [],
   "source": [
    "\"\"\"\n",
    "Programmable turtle graphics\n",
    "\n",
    "Use what you've learned about lists, loop, cycle, slice and zip to draw a pattern\n",
    "\n",
    "\"\"\"\n",
    "import turtle\n",
    "t = turtle# Create a turtle like in previous programs, like 04_Crazy_Tina.py\n",
    "turtle.setup (width=300 , height= 300 )\n",
    "colors = ['blue', 'yellow', 'pink', 'red'] # Make a list of colors\n",
    "\n",
    "angles = [100, 200, 90, 20]\n",
    "moves = [10, 50, 35, 100]\n",
    "\n",
    "# Zip the colors and directions together, then unpack them. THere is a good example of this\n",
    "# in 10_More_iterables.ipynb in the discussion of zip()\n",
    "\n",
    "for color , angle , move in zip( colors , angles , moves):\n",
    "    t.color ( color)\n",
    "    t.forward ( move)\n",
    "    t.left ( angle)\n",
    "\n",
    "turtle.exitonclick()\n",
    "# Don't forget the special way to end a turtle program. \n"
   ]
  },
  {
   "cell_type": "code",
   "execution_count": null,
   "metadata": {},
   "outputs": [],
   "source": []
  }
 ],
 "metadata": {
  "kernelspec": {
   "display_name": "Python 3",
   "language": "python",
   "name": "python3"
  },
  "language_info": {
   "codemirror_mode": {
    "name": "ipython",
    "version": 3
   },
   "file_extension": ".py",
   "mimetype": "text/x-python",
   "name": "python",
   "nbconvert_exporter": "python",
   "pygments_lexer": "ipython3",
   "version": "3.12.4"
  }
 },
 "nbformat": 4,
 "nbformat_minor": 2
}
